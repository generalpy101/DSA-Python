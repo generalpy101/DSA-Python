{
 "cells": [
  {
   "cell_type": "markdown",
   "metadata": {},
   "source": [
    "## Infix, Postfix and Prefix"
   ]
  },
  {
   "cell_type": "markdown",
   "metadata": {},
   "source": [
    "There are 3 main ways by which we can write an expression and evaluate it.\n",
    "\n",
    "These are :\n",
    "\n",
    "- Infix Notation\n",
    "    \n",
    "    This is the normal way in which we write expressions normally.\n",
    "    \n",
    "    For example a+b-c. In infix we can use parentheses to override operator precedence and associativity.\n",
    "    \n",
    "    It is generally hard to evaulate and expression written in this notation cannot be evaluated in 1 pass.\n",
    "\n",
    "- Postfix Notation \n",
    "    \n",
    "    In postfix notation, operators appear after operands.\n",
    "    \n",
    "    For example, a+b-c will be ab+c- in postfix notation. No parentheses are required as when evaluating, order is automatically detected.\n",
    "    \n",
    "    Expression can be evaluated in a single pass.\n",
    "\n",
    "- Prefix Notation\n",
    "    \n",
    "    In prefix notation, operators appear before operands.\n",
    "    \n",
    "    For example, a+b-c will be -+abc in prefix. No parentheses are required here during evaluation.\n",
    "    \n",
    "    Expressions can be evaluated in a single pass."
   ]
  },
  {
   "cell_type": "code",
   "execution_count": 2,
   "metadata": {},
   "outputs": [],
   "source": [
    "operators = [\"/\",\"*\",\"-\",\"+\",\"^\"]\n",
    "def check_precedence(a, b):\n",
    "    # Only few operators are used\n",
    "    levels = {\n",
    "        \"^\": 1,\n",
    "        \"/\": 2,\n",
    "        \"*\": 2,\n",
    "        \"+\": 3,\n",
    "        \"-\": 3\n",
    "    }\n",
    "    return levels[a] - levels[b]\n"
   ]
  },
  {
   "cell_type": "markdown",
   "metadata": {},
   "source": [
    "### Infix to Postfix Conversion"
   ]
  },
  {
   "cell_type": "markdown",
   "metadata": {},
   "source": [
    "#### Naive Approach\n",
    "\n",
    "Naive approach is simpe. We put parentheses on each expression according to associativity and precedence and then solve brackets first.\n",
    "\n",
    "It is easier for humans to understand but harder to implement on computers.\n",
    "\n",
    "Example : infix -> a+b-c\n",
    "\n",
    "    Here precedence of + and - are same so we will put brackets according to associativity. + and - are evaluated from left to right.\n",
    "\n",
    "    Our resulting equation will be ((a+b)-c). After solving inner parentheses, ((ab+)-c). \n",
    "\n",
    "    Solving outer bracket, we get ab+c-."
   ]
  },
  {
   "cell_type": "markdown",
   "metadata": {},
   "source": [
    "#### Efficient Approach\n",
    "\n",
    "We will use stack to efficiently convert infix to postfix.\n",
    "\n",
    "Our algorithm is :\n",
    "\n",
    "\n",
    "```python\n",
    "- Create a stack for string values.\n",
    "- Start looping through the string.\n",
    "- if an operand is encountered, output it.\n",
    "- if opening parentheses is encountered, push it to stack.\n",
    "- if closing stack is encountered, pop values from stack and output them till closing counterpart is encountered.\n",
    "- if an operator is encountered, 3 cases arise :\n",
    "    - if precedence of operator on top of stack is lower than current operator, push current operator.\n",
    "    - if precedence of operator on top of stack is higher than current operator, pop and output operators till oprerator of lower precedence is found or stack is empty.\n",
    "    - if precedence is equal, associativity is used, for example if left to right associativity is used, operator appearing before current operator has higher precedence than current operator, so do as done for top higher precedence.\n",
    "- After loop completes pop and output all remaining operators\n",
    "```"
   ]
  },
  {
   "cell_type": "markdown",
   "metadata": {},
   "source": [
    "##### Implementation"
   ]
  },
  {
   "cell_type": "code",
   "execution_count": 47,
   "metadata": {},
   "outputs": [],
   "source": [
    "def infix_to_postfix(expression) -> str:\n",
    "    st = []\n",
    "    res = \"\"\n",
    "    for i in expression:\n",
    "        if i == \"(\":\n",
    "            st.append(i)\n",
    "        elif i == \")\":\n",
    "            x = st.pop()\n",
    "            while x != \"(\":\n",
    "                res += x\n",
    "                x = st.pop()\n",
    "        elif i in operators:\n",
    "            if len(st) == 0 or all([i not in operators for i in st]):\n",
    "                st.append(i)\n",
    "            else:\n",
    "                top = st[-1]\n",
    "                if top not in operators:\n",
    "                    st.append(i)\n",
    "                    continue\n",
    "                precedence = check_precedence(i, top)\n",
    "                if precedence < 0:\n",
    "                    st.append(i)\n",
    "                else:\n",
    "                    while st and precedence >= 0:\n",
    "                        res += st.pop()\n",
    "                        if st:\n",
    "                            precedence = check_precedence(i, st[-1])\n",
    "                    st.append(i)\n",
    "        else:\n",
    "            res += i\n",
    "    while st:\n",
    "        res += st.pop()\n",
    "\n",
    "    return res\n"
   ]
  },
  {
   "cell_type": "code",
   "execution_count": 48,
   "metadata": {},
   "outputs": [
    {
     "name": "stdout",
     "output_type": "stream",
     "text": [
      "ab+c-\n",
      "AB*CD/+\n"
     ]
    }
   ],
   "source": [
    "print(infix_to_postfix(\"a+b-c\"))\n",
    "print(infix_to_postfix(\"((A*B)+(C/D))\"))"
   ]
  },
  {
   "cell_type": "markdown",
   "metadata": {},
   "source": [
    "### Evaluation of postfix"
   ]
  },
  {
   "cell_type": "markdown",
   "metadata": {},
   "source": [
    "Postfix expressions can be evaluated by using stack. \n",
    "\n",
    "Here we will use a single stack.\n",
    "\n",
    "#### Algorithm\n",
    "\n",
    "```python\n",
    "- Create a stack.\n",
    "- Start looping through the postfix exression.\n",
    "- If operand is encountered, push it to stack.\n",
    "- If operator is encountered, pop last 2 operands, A=Top, B=Operator next to top.\n",
    "    - Evaluate B operator A.\n",
    "    - Push result to stack.\n",
    "- At the end, a single result will be left, pop it.\n",
    "```"
   ]
  },
  {
   "cell_type": "markdown",
   "metadata": {},
   "source": [
    "#### Implementation"
   ]
  },
  {
   "cell_type": "code",
   "execution_count": 22,
   "metadata": {},
   "outputs": [],
   "source": [
    "def evaluate_postfix(expression) :\n",
    "    st = []\n",
    "    if \" \" in expression:\n",
    "        expression = expression.split()\n",
    "    for i in expression :\n",
    "        if i in operators :\n",
    "            a = st.pop()\n",
    "            b = st.pop()\n",
    "            st.append(eval(f\"{b} {i} {a}\"))\n",
    "        else :\n",
    "            st.append(i)\n",
    "    return st.pop()"
   ]
  },
  {
   "cell_type": "code",
   "execution_count": 23,
   "metadata": {},
   "outputs": [
    {
     "name": "stdout",
     "output_type": "stream",
     "text": [
      "9\n",
      "14.0\n",
      "16.0\n"
     ]
    }
   ],
   "source": [
    "print(evaluate_postfix(\"562-+\")) # abc+-\n",
    "print(evaluate_postfix(\"43*63/+\")) # AB*CD/+\n",
    "# No support for multivalued numbers eg: 43*123/+ will result in something weird\n",
    "# Provide space separated values if multivalued support is wanted.\n",
    "print(evaluate_postfix(\"4 3 * 12 3 / +\")) # AB*CD/+"
   ]
  },
  {
   "cell_type": "markdown",
   "metadata": {},
   "source": [
    "### Infix to Prefix"
   ]
  },
  {
   "cell_type": "markdown",
   "metadata": {},
   "source": [
    "#### Naive Approach\n",
    "\n",
    "Just like infix to postfix, we first fully parenthesis the expression and then start converting from innermost level."
   ]
  },
  {
   "cell_type": "markdown",
   "metadata": {},
   "source": [
    "#### Efficient Approach\n",
    "\n",
    "We will use stack for this approach. Here a difference is that we get reverse of result by using algorithm. Thus we have to reverese result of algorithm to get correct result. \n",
    "\n",
    "Our algorithm is :\n",
    "\n",
    "\n",
    "```python\n",
    "- Create a stack for string values.\n",
    "- Start looping through the string in reverse order.\n",
    "- if an operand is encountered, output it.\n",
    "- if closing parentheses is encountered, push it to stack.\n",
    "- if opening stack is encountered, pop values from stack and output them till closing counterpart is encountered.\n",
    "- if an operator is encountered, 3 cases arise :\n",
    "    - if precedence of operator on top of stack is lower than current operator, push current operator.\n",
    "    - if precedence of operator on top of stack is higher than current operator, pop and output operators till oprerator of lower precedence is found or stack is empty.\n",
    "    - if precedence is equal, associativity is used, for example if left to right associativity is used, operator appearing before current operator has higher precedence than current operator, so do as done for top higher precedence.\n",
    "- After loop completes pop and output all remaining operators\n",
    "- Reverse the prefix string formed.\n",
    "```\n",
    "\n",
    "One other technique is to apply postfix conversion on reverse of infix expression and reversing whole result. Only applies if no brackets present."
   ]
  },
  {
   "cell_type": "markdown",
   "metadata": {},
   "source": [
    "##### Implementation"
   ]
  },
  {
   "cell_type": "code",
   "execution_count": 72,
   "metadata": {},
   "outputs": [],
   "source": [
    "def infix_to_prefix(expression) -> str:\n",
    "    st = []\n",
    "    res = \"\"\n",
    "    for i in expression[::-1]:\n",
    "        if i == \")\":\n",
    "            st.append(i)\n",
    "        elif i == \"(\":\n",
    "            x = st.pop()\n",
    "            while x != \")\":\n",
    "                res += x\n",
    "                x = st.pop()\n",
    "        elif i in operators:\n",
    "            if len(st) == 0 or all([i not in operators for i in st]):\n",
    "                st.append(i)\n",
    "            else:\n",
    "                top = st[-1]\n",
    "                if top not in operators:\n",
    "                    st.append(i)\n",
    "                    continue\n",
    "                precedence = check_precedence(i, top)\n",
    "                if precedence < 0:\n",
    "                    st.append(i)\n",
    "                else:\n",
    "                    while st and precedence >= 0:\n",
    "                        res += st.pop()\n",
    "                        if st:\n",
    "                            precedence = check_precedence(i, st[-1])\n",
    "                    st.append(i)\n",
    "        else:\n",
    "            res += i\n",
    "    while st:\n",
    "        res += st.pop()\n",
    "\n",
    "    return res[::-1]"
   ]
  },
  {
   "cell_type": "code",
   "execution_count": 73,
   "metadata": {},
   "outputs": [
    {
     "name": "stdout",
     "output_type": "stream",
     "text": [
      "+x*y-zw\n",
      "+a-bc\n",
      "+a-bc\n",
      "^x^yz\n"
     ]
    }
   ],
   "source": [
    "print(infix_to_prefix(\"(x+(y*(z-w)))\"))\n",
    "print(infix_to_prefix(\"a+b-c\"))\n",
    "print(infix_to_postfix(\"a+b-c\"[::-1])[::-1])\n",
    "print(infix_to_prefix(\"x^y^z\"))"
   ]
  },
  {
   "cell_type": "markdown",
   "metadata": {},
   "source": [
    "### Evaluation of prefix expression"
   ]
  },
  {
   "cell_type": "markdown",
   "metadata": {},
   "source": [
    "Evaluation of prefix is same as postfix with minor changes. The changes are :\n",
    "\n",
    "- Traverse expression from right to left instead of left to right.\n",
    "- Apply operator as A operator B where A is top and B is element next to top.\n",
    "  "
   ]
  },
  {
   "cell_type": "markdown",
   "metadata": {},
   "source": [
    "#### Implementation"
   ]
  },
  {
   "cell_type": "code",
   "execution_count": 74,
   "metadata": {},
   "outputs": [],
   "source": [
    "def evaluate_prefix(expression) :\n",
    "    expression = expression[::-1]\n",
    "    st = []\n",
    "    for i in expression :\n",
    "        if i in operators : \n",
    "            a = st.pop()\n",
    "            b = st.pop()\n",
    "            st.append(eval(f\"{a} {i} {b}\"))\n",
    "        else :\n",
    "            st.append(i)\n",
    "    return st.pop()"
   ]
  },
  {
   "cell_type": "code",
   "execution_count": 75,
   "metadata": {},
   "outputs": [
    {
     "name": "stdout",
     "output_type": "stream",
     "text": [
      "2.2666666666666666\n",
      "7\n"
     ]
    }
   ],
   "source": [
    "print(evaluate_prefix(\"+2/4*5^-53^54\"))\n",
    "print(evaluate_prefix(\"+4-41\"))"
   ]
  }
 ],
 "metadata": {
  "kernelspec": {
   "display_name": "Python 3.10.5 64-bit",
   "language": "python",
   "name": "python3"
  },
  "language_info": {
   "codemirror_mode": {
    "name": "ipython",
    "version": 3
   },
   "file_extension": ".py",
   "mimetype": "text/x-python",
   "name": "python",
   "nbconvert_exporter": "python",
   "pygments_lexer": "ipython3",
   "version": "3.10.5"
  },
  "orig_nbformat": 4,
  "vscode": {
   "interpreter": {
    "hash": "369f2c481f4da34e4445cda3fffd2e751bd1c4d706f27375911949ba6bb62e1c"
   }
  }
 },
 "nbformat": 4,
 "nbformat_minor": 2
}
