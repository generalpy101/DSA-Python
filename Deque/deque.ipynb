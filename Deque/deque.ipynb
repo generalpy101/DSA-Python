{
 "cells": [
  {
   "cell_type": "markdown",
   "metadata": {},
   "source": [
    "### Deque"
   ]
  },
  {
   "cell_type": "markdown",
   "metadata": {},
   "source": [
    "- Deque stands for doubly ended queue.\n",
    "- We can insert and remove from both ends in a deque.\n",
    "\n",
    "##### Applications of Deque\n",
    "\n",
    "- Deque can be used both as queue and stack.\n",
    "- Maintaining history of actions.\n",
    "- A steal processing algorithm.\n",
    "- Implementation of priority queue with two priorities."
   ]
  },
  {
   "cell_type": "markdown",
   "metadata": {},
   "source": [
    "#### Operations on Deque"
   ]
  },
  {
   "cell_type": "markdown",
   "metadata": {},
   "source": [
    "- ##### InsertEnd\n",
    "  Insertion at the end of deque.\n",
    "  \n",
    "  Same as enqueue operation.\n",
    "\n",
    "- ##### InsertFront\n",
    "  This is new operation of deque through which we can insert at front.\n",
    "\n",
    "- ##### RemoveFront\n",
    "  Removal from front of deque.\n",
    "\n",
    "  Same as deque operation.\n",
    "\n",
    "- ##### RemoveEnd\n",
    "  Removal from end of deque.\n",
    "\n",
    "  New operation.\n"
   ]
  },
  {
   "cell_type": "markdown",
   "metadata": {},
   "source": [
    "#### Deque in Python"
   ]
  },
  {
   "cell_type": "markdown",
   "metadata": {},
   "source": [
    "- Python contains deque container as part of collections module.\n",
    "- It contains all common deque methods along with some python only methods.\n",
    "  \n",
    "##### Python Deque Code"
   ]
  },
  {
   "cell_type": "code",
   "execution_count": 1,
   "metadata": {},
   "outputs": [
    {
     "name": "stdout",
     "output_type": "stream",
     "text": [
      "deque([-1, 1, 2, 3])\n",
      "3\n",
      "-1\n",
      "deque([1, 2])\n",
      "1\n",
      "deque([-4, -3, -2, -1, 1, 2, 3, 4, 5])\n",
      "deque([3, 2, 1, -1, -2, -3, -4, 5, 4])\n"
     ]
    }
   ],
   "source": [
    "from collections import deque\n",
    "\n",
    "d = deque() # Can also pass an iterable for default values\n",
    "d.append(1) # Same as enqueue or InsertEnd\n",
    "d.append(2)\n",
    "d.append(3)\n",
    "d.appendleft(-1) # Same as InsertFront\n",
    "print(d)\n",
    "\n",
    "print(d.pop()) # Same as RemoveEnd\n",
    "print(d.popleft()) # Same as dequeue or RemoveFront\n",
    "print(d)\n",
    "\n",
    "print(d[0]) # Can be indexed but cannot be sliced\n",
    "\n",
    "d.append(3)\n",
    "d.insert(0,-1) # Can insert at any position like list\n",
    "d.remove(3) # Remove first occurence of element\n",
    "d.extend([3,4,5]) # Same as list extend\n",
    "d.extendleft([-2,-3,-4]) # Will extend from left but remember that elements will occur in reverse order.\n",
    "# Reason for that is that for a list [a,b,c] a will be pushed to front first and then b and then c thus \n",
    "# final order in deque will be c,b,a.\n",
    "print(d)\n",
    "\n",
    "d.rotate(2) # Inplace rotate deque by n number of places where n is first argument. Clockwise.\n",
    "# Use negative numbers for anti clockwise.\n",
    "d.reverse() # Reverses deque\n",
    "print(d)"
   ]
  },
  {
   "cell_type": "markdown",
   "metadata": {},
   "source": [
    "##### Time Complexities\n",
    "\n",
    "`append`, `appendleft`, `pop`, `popleft` : O(1)\n",
    "\n",
    "`count`, `indexing`, `insert` : O(n)\n",
    "\n",
    "`rotate` : O(abs(r)) where r is rotating amount\n",
    "\n",
    "`extend`, `extendleft` : O(len(i)) where i is iterator passed to extend."
   ]
  },
  {
   "cell_type": "markdown",
   "metadata": {},
   "source": [
    "#### Deque using Linked List"
   ]
  },
  {
   "cell_type": "markdown",
   "metadata": {},
   "source": [
    "- We will use Doubly linked list to create deque data structure.\n",
    "- Since deque has O(1) time complexity for all front and rear operations, we have to use doubly linked list as with a singly list list O(1) time complexity when deleting at rear end is not possible."
   ]
  },
  {
   "cell_type": "code",
   "execution_count": 2,
   "metadata": {},
   "outputs": [],
   "source": [
    "class DLL :\n",
    "    def __init__(self,val) :\n",
    "        self.val = val\n",
    "        self.next = None\n",
    "        self.prev = None"
   ]
  },
  {
   "cell_type": "code",
   "execution_count": 10,
   "metadata": {},
   "outputs": [],
   "source": [
    "class MyDeque :\n",
    "    def __init__(self,head = None) :\n",
    "        self.head = head\n",
    "        self.rear = head\n",
    "        self.length = 0\n",
    "    \n",
    "    def size(self) :\n",
    "        return self.length\n",
    "    \n",
    "    def isEmpty(self) :\n",
    "        return self.length == 0\n",
    "    \n",
    "    def insertFront(self,val) :\n",
    "        temp = DLL(val)\n",
    "        if self.length == 0 :\n",
    "            self.rear = temp\n",
    "        else :\n",
    "            temp.next = self.head\n",
    "            self.head.prev = temp\n",
    "        self.head = temp\n",
    "        self.length += 1\n",
    "    \n",
    "    def insertRear(self,val) :\n",
    "        temp = DLL(val)\n",
    "        if self.rear == None :\n",
    "            self.head = temp\n",
    "        else :\n",
    "            self.rear.next = temp\n",
    "            temp.prev = self.rear\n",
    "        self.rear = temp\n",
    "        self.length += 1\n",
    "    \n",
    "    def deleteFront(self) :\n",
    "        if self.length == 0 :\n",
    "            return None\n",
    "        else :\n",
    "            res = self.head.val\n",
    "            self.head = self.head.next\n",
    "            if self.head == None :\n",
    "                self.rear = None\n",
    "            else :\n",
    "                self.head.prev = None\n",
    "            self.length -= 1\n",
    "            return res\n",
    "    \n",
    "    def deleteRear(self) :\n",
    "        if self.length == 0 :\n",
    "            return None\n",
    "        else :\n",
    "            res = self.rear.val\n",
    "            self.rear = self.rear.prev\n",
    "            if self.rear == None :\n",
    "                self.head = 0\n",
    "            else :\n",
    "                self.rear.next = None\n",
    "            self.length -= 1\n",
    "            return res\n",
    "    \n",
    "    def getFront(self) :\n",
    "        return self.head.val\n",
    "    \n",
    "    def getRear(self) :\n",
    "        return self.rear.val\n",
    "    \n",
    "    def __str__(self) :\n",
    "        res = \"[ \"\n",
    "        curr = self.head \n",
    "        while curr :\n",
    "            res += f\"{curr.val} \"\n",
    "            curr = curr.next\n",
    "        res += \"]\"\n",
    "        return res"
   ]
  },
  {
   "cell_type": "code",
   "execution_count": 11,
   "metadata": {},
   "outputs": [
    {
     "name": "stdout",
     "output_type": "stream",
     "text": [
      "[ 11 10 12 13 14 ]\n",
      "11\n",
      "11\n",
      "[ 10 12 13 14 ]\n"
     ]
    }
   ],
   "source": [
    "dq = MyDeque()\n",
    "dq.insertFront(10)\n",
    "dq.insertFront(11)\n",
    "dq.insertRear(12)\n",
    "dq.insertRear(13)\n",
    "dq.insertRear(14)\n",
    "print(dq)\n",
    "print(dq.getFront())\n",
    "print(dq.deleteFront())\n",
    "print(dq)"
   ]
  }
 ],
 "metadata": {
  "kernelspec": {
   "display_name": "Python 3.10.5 64-bit",
   "language": "python",
   "name": "python3"
  },
  "language_info": {
   "codemirror_mode": {
    "name": "ipython",
    "version": 3
   },
   "file_extension": ".py",
   "mimetype": "text/x-python",
   "name": "python",
   "nbconvert_exporter": "python",
   "pygments_lexer": "ipython3",
   "version": "3.10.5"
  },
  "orig_nbformat": 4,
  "vscode": {
   "interpreter": {
    "hash": "369f2c481f4da34e4445cda3fffd2e751bd1c4d706f27375911949ba6bb62e1c"
   }
  }
 },
 "nbformat": 4,
 "nbformat_minor": 2
}
