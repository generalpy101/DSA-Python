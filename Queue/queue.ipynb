{
 "cells": [
  {
   "cell_type": "markdown",
   "metadata": {},
   "source": [
    "## Queue\n",
    "\n",
    "Queue is a __First in First Out(FIFO)__ data structure which is used extensively in computer science.\n",
    "\n",
    "As its name suggest, elements which are inserted first in queue are removed first.\n",
    "\n",
    "FIFO scheme of queue has many applications in computer science, some of which are :\n",
    "\n",
    "- Synchronization between slow and fast devices on network.\n",
    "- Operating system(FCFS scheduling, hardware device buffering etc.).\n",
    "- Single resource multiple consumers scenario."
   ]
  },
  {
   "cell_type": "markdown",
   "metadata": {},
   "source": [
    "### Operations on a queue\n",
    "\n",
    "Some operations on queue are : \n",
    "\n",
    "- #### Enqueue \n",
    "  \n",
    "  In enqueue, we insert data into the queue. \n",
    "\n",
    "  Insertion takes place in rear of the queue.\n",
    "\n",
    "  It increases size of queue by 1.\n",
    "\n",
    "- #### Dequeue\n",
    "  \n",
    "  In dequeue, we remove data from the queue.\n",
    "\n",
    "  Removal takes place from from of the queue.\n",
    "\n",
    "  It decreases size of queue by 1.\n",
    "\n",
    "- #### getFront\n",
    "  \n",
    "  Get front element of the queue.\n",
    "\n",
    "  Element returned by this operation will be the value which will be removed when dequeue is executed.\n",
    "\n",
    "- #### getRear\n",
    "  \n",
    "  Get rear element of the queue.\n",
    "\n",
    "  Element returned by this operation is latest element added to queue.\n",
    "\n",
    "- #### getSize\n",
    "  \n",
    "  Get size of queue.\n",
    "\n",
    "- #### isEmpty\n",
    "  \n",
    "  Check if queue is empty.\n",
    "\n"
   ]
  },
  {
   "cell_type": "markdown",
   "metadata": {},
   "source": [
    "### Methods to implement Queue\n",
    "\n",
    "There are mutliple methods to implement queue in Python."
   ]
  },
  {
   "cell_type": "markdown",
   "metadata": {},
   "source": [
    "#### Using `List`\n",
    "  \n",
    "  Lists can be used to crete queue in python.\n",
    "\n",
    "  Sample code :"
   ]
  },
  {
   "cell_type": "code",
   "execution_count": 1,
   "metadata": {},
   "outputs": [
    {
     "name": "stdout",
     "output_type": "stream",
     "text": [
      "Size : 2\n",
      "Is empty : False\n",
      "[20, 30]\n"
     ]
    }
   ],
   "source": [
    "q = []\n",
    "q.append(10) # [10]\n",
    "q.append(20) # [10,20]\n",
    "q.append(30) # [10,20,30]\n",
    "q.pop(0) # [20,30]\n",
    "print(f\"Size : {len(q)}\")\n",
    "print(f\"Is empty : {len(q) == 0}\")\n",
    "print(q)"
   ]
  },
  {
   "cell_type": "markdown",
   "metadata": {},
   "source": [
    "Here we use `append` method of list to add element to end of queue.\n",
    "\n",
    "`pop` method with index 0 is used to remove element from from of queue.\n",
    "\n",
    "Here amortized time complexity of `append` is O(1) while that of `pop(0)` is O(n)."
   ]
  },
  {
   "cell_type": "markdown",
   "metadata": {},
   "source": [
    "#### Using `collections.dequeue`\n",
    "\n",
    "`collections` module of python provides `dequeue` class which is basically a doubly ended queue top implement queue.\n",
    "\n",
    "Sample code :"
   ]
  },
  {
   "cell_type": "code",
   "execution_count": 2,
   "metadata": {},
   "outputs": [],
   "source": [
    "from collections import deque"
   ]
  },
  {
   "cell_type": "code",
   "execution_count": 3,
   "metadata": {},
   "outputs": [
    {
     "name": "stdout",
     "output_type": "stream",
     "text": [
      "Size : 2\n",
      "Is empty : False\n",
      "deque([20, 30])\n"
     ]
    }
   ],
   "source": [
    "q = deque()\n",
    "q.append(10) # [10]\n",
    "q.append(20) # [10,20]\n",
    "q.append(30) # [10,20,30]\n",
    "q.popleft() # [20,30]\n",
    "print(f\"Size : {len(q)}\")\n",
    "print(f\"Is empty : {len(q) == 0}\")\n",
    "print(q)"
   ]
  },
  {
   "cell_type": "markdown",
   "metadata": {},
   "source": [
    "`append` method of `dequeue` is used to add element to queue.\n",
    "\n",
    "`popLeft` method is used to remove element from left side of the dequeue which is equivalent of removing element from qeueue.\n",
    "\n",
    "Here amortized time complexity of both `append` and `popLeft` is O(1)\n",
    "\n",
    "For more info on time complexity visit : [Python wiki](https://wiki.python.org/moin/TimeComplexity)"
   ]
  },
  {
   "cell_type": "markdown",
   "metadata": {},
   "source": [
    "#### Using `queue.Queue`\n",
    "\n",
    "`queue` module provides `Queue` class for creating queue in python.\n",
    "\n",
    "This is usually not done for solving DSA problems as this module is created for working in multithreaded environments and projects so it adds extra overhead which is usually not required."
   ]
  },
  {
   "cell_type": "markdown",
   "metadata": {},
   "source": [
    "#### Custom Implementation\n",
    "\n",
    "We can implement our own queue using other data structures like stack, linked list etc."
   ]
  },
  {
   "cell_type": "markdown",
   "metadata": {},
   "source": [
    "##### Linked list implementation\n",
    "\n",
    "We will use a linked list with 2 pointers, head and tail for simulating queue.\n",
    "\n",
    "Insertion will be done on tail pointer and removal will be done on head pointer thus giving us O(1) insertion and removal time.\n",
    "\n",
    "Our class will be like below one :"
   ]
  },
  {
   "cell_type": "code",
   "execution_count": 4,
   "metadata": {},
   "outputs": [],
   "source": [
    "class Node :\n",
    "    def __init__(self,data=None) :\n",
    "        self.data = data\n",
    "        self.next = None"
   ]
  },
  {
   "cell_type": "code",
   "execution_count": 5,
   "metadata": {},
   "outputs": [],
   "source": [
    "class MyQueue:\n",
    "    def __init__(self):\n",
    "        self.front = self.rear = None\n",
    "        self.size = 0\n",
    "\n",
    "    def enqueue(self, val):\n",
    "        temp = Node(val)\n",
    "        if self.size == 0:\n",
    "            self.front = temp  \n",
    "        else:\n",
    "            self.rear.next = temp\n",
    "        self.rear = temp\n",
    "        self.size += 1\n",
    "\n",
    "    def dequeue(self):\n",
    "        if self.isEmpty() :\n",
    "            return None\n",
    "        else:\n",
    "            res = self.front.data\n",
    "            self.front = self.front.next\n",
    "            if self.front is None :\n",
    "                self.rear = None\n",
    "            self.size -= 1\n",
    "            return res\n",
    "    \n",
    "    def getSize(self) :\n",
    "        return self.size\n",
    "    \n",
    "    def isEmpty(self) :\n",
    "        return self.front == self.rear == None\n",
    "\n",
    "    def __str__(self):\n",
    "        curr = self.front\n",
    "        res = \"\"\n",
    "        while curr:\n",
    "            res += f\"{curr.data} <- \"\n",
    "            curr = curr.next\n",
    "        return res\n",
    "\n",
    "    def __repr__(self):\n",
    "        curr = self.front\n",
    "        res = \"\"\n",
    "        while curr:\n",
    "            res += f\"{curr.data} <- \"\n",
    "            curr = curr.next\n",
    "        return res\n"
   ]
  },
  {
   "cell_type": "code",
   "execution_count": 6,
   "metadata": {},
   "outputs": [
    {
     "name": "stdout",
     "output_type": "stream",
     "text": [
      "Is empty : True\n",
      "Size : 0\n",
      "20 <- 30 <- 40 <- 50 <- \n",
      "Is empty : False\n",
      "Size : 4\n"
     ]
    }
   ],
   "source": [
    "q = MyQueue()\n",
    "print(f\"Is empty : {q.isEmpty()}\")\n",
    "print(f\"Size : {q.getSize()}\")\n",
    "q.enqueue(10)\n",
    "q.enqueue(20)\n",
    "q.enqueue(30)\n",
    "q.enqueue(40)\n",
    "q.enqueue(50)\n",
    "q.dequeue()\n",
    "print(q)\n",
    "print(f\"Is empty : {q.isEmpty()}\")\n",
    "print(f\"Size : {q.getSize()}\")"
   ]
  },
  {
   "cell_type": "markdown",
   "metadata": {},
   "source": [
    "#### Using Circular List"
   ]
  },
  {
   "cell_type": "markdown",
   "metadata": {},
   "source": [
    "- Linked list is not cache friendly.\n",
    "- We can use a list circularly to implement a custom queue.\n",
    "- One Drawback of that type of queue is that we can only create limited capacity queue.\n",
    "- We create a list first, with a limited capacity. We will limit capacity by maintaining internal indices.\n",
    "- Internal size will be maintained.\n",
    "- Next front will be calculated as : `front = (front+1)%capacity`. This will be used in dequeue operation.\n",
    "- Rear call be calculated anytime using size,front and capacity : `rear = (rear+size-1)%capacity`. For enqueue, next rear will be : `rear = (rear+1)%capacity`."
   ]
  },
  {
   "cell_type": "markdown",
   "metadata": {},
   "source": [
    "##### Implementation"
   ]
  },
  {
   "cell_type": "code",
   "execution_count": 16,
   "metadata": {},
   "outputs": [],
   "source": [
    "class CircularQueue :\n",
    "    def __init__(self,capacity) :\n",
    "        self.cap = capacity\n",
    "        self.size = 0\n",
    "        self.front = 0\n",
    "        self.li = [None] * self.cap\n",
    "    \n",
    "    def isEmpty(self) :\n",
    "        return self.size == 0\n",
    "    \n",
    "    def isFull(self) :\n",
    "        return self.size == self.cap\n",
    "\n",
    "    def getFront(self) :\n",
    "        return self.li[self.front]\n",
    "    \n",
    "    def enqueue(self,val) :\n",
    "        if self.isFull() :\n",
    "            print(\"Overflow\")\n",
    "        else :\n",
    "            rear = (self.front + self.size - 1) % self.cap\n",
    "            rear = (rear + 1) % self.cap\n",
    "            self.li[rear] = val\n",
    "            self.size += 1\n",
    "    \n",
    "    def dequeue(self) :\n",
    "        if self.isEmpty() :\n",
    "            return None\n",
    "        else :\n",
    "            res = self.li[self.front]\n",
    "            self.front = (self.front + 1) % self.cap\n",
    "            self.size -= 1\n",
    "            return res\n",
    "    \n",
    "    def __str__(self) -> str :\n",
    "        if self.isEmpty() :\n",
    "            return \"\"\n",
    "        res = \"front -> \"\n",
    "        i = self.front\n",
    "        count = 0\n",
    "        while count < self.size:\n",
    "            res += f'{self.li[i]} '\n",
    "            i = (i+1) % self.cap\n",
    "            count += 1\n",
    "        res += f\"<- rear\"\n",
    "        return res\n",
    "    \n",
    "    def __repr__(self) -> str :\n",
    "        if self.isEmpty() :\n",
    "            return \"\"\n",
    "        res = \"front -> \"\n",
    "        i = self.front\n",
    "        count = 0\n",
    "        while count < self.size:\n",
    "            res += f'{self.li[i]} '\n",
    "            i = (i+1) % self.cap\n",
    "            count += 1\n",
    "        res += f\"<- rear\"\n",
    "        return res"
   ]
  },
  {
   "cell_type": "code",
   "execution_count": 17,
   "metadata": {},
   "outputs": [
    {
     "name": "stdout",
     "output_type": "stream",
     "text": [
      "Queue : front -> 10 20 30 <- rear\n",
      "Dequeue : 10\n",
      "Queue after dequeue : front -> 20 30 <- rear\n"
     ]
    }
   ],
   "source": [
    "q = CircularQueue(5)\n",
    "q.enqueue(10) # 10\n",
    "q.enqueue(20) # 10, 20\n",
    "q.enqueue(30) # 10, 20, 30\n",
    "print(f\"Queue : {q}\")\n",
    "print(f\"Dequeue : {q.dequeue()}\")\n",
    "print(f\"Queue after dequeue : {q}\")"
   ]
  }
 ],
 "metadata": {
  "kernelspec": {
   "display_name": "Python 3.10.5 64-bit",
   "language": "python",
   "name": "python3"
  },
  "language_info": {
   "codemirror_mode": {
    "name": "ipython",
    "version": 3
   },
   "file_extension": ".py",
   "mimetype": "text/x-python",
   "name": "python",
   "nbconvert_exporter": "python",
   "pygments_lexer": "ipython3",
   "version": "3.10.5"
  },
  "orig_nbformat": 4,
  "vscode": {
   "interpreter": {
    "hash": "369f2c481f4da34e4445cda3fffd2e751bd1c4d706f27375911949ba6bb62e1c"
   }
  }
 },
 "nbformat": 4,
 "nbformat_minor": 2
}
